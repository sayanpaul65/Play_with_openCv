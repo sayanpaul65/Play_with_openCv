{
 "cells": [
  {
   "cell_type": "code",
   "execution_count": 86,
   "metadata": {},
   "outputs": [],
   "source": [
    "import cv2\n",
    "import numpy as np"
   ]
  },
  {
   "cell_type": "code",
   "execution_count": 87,
   "metadata": {},
   "outputs": [],
   "source": [
    "#Task 3.1\n",
    "#Create image by yourself Using Python Code "
   ]
  },
  {
   "cell_type": "code",
   "execution_count": 88,
   "metadata": {},
   "outputs": [],
   "source": [
    "# Creating a custom image of a dog.\n",
    "d1=np.zeros((500,700,3),np.uint8)\n",
    "cv2.rectangle(d1,(180,250) , (400,350) , [255,255,255] ,-5)\n",
    "cv2.rectangle(d1,(180,350) , (190,420) , [255,255,255] ,-5)\n",
    "cv2.rectangle(d1,(400,350) , (390,420) , [255,255,255] ,-5)\n",
    "cv2.rectangle(d1,(180,250) , (150,253) , [255,255,255] ,-5)\n",
    "cv2.rectangle(d1,(150,253) , (145,215) , [255,255,255] ,-5)\n",
    "cv2.rectangle(d1,(145,215) , (115,218) , [255,255,255] ,-5)\n",
    "cv2.rectangle(d1,(370,270) , (470,200) , [255,255,255] ,-5)\n",
    "cv2.rectangle(d1,(470,270) , (495,235) , [255,255,255] ,-1)\n",
    "p1 = (385, 200)\n",
    "p2 = (415, 200)\n",
    "p3 = (374, 154)\n",
    "p4 = (180, 420)\n",
    "p5 = (205, 420)\n",
    "p6 = (180, 407)\n",
    "p7 = (390, 420)\n",
    "p8 = (410, 420)\n",
    "p9 = (390, 405)\n",
    "cv2.line(d1, p7, p8, (255, 255, 255), 3)\n",
    "cv2.line(d1, p8, p9, (255, 255, 255), 3)\n",
    "cv2.line(d1, p9, p7, (255, 255, 255), 3)\n",
    "cv2.line(d1, p4, p5, (255, 255, 255), 3)\n",
    "cv2.line(d1, p5, p6, (255, 255, 255), 3)\n",
    "cv2.line(d1, p6, p4, (255, 255, 255), 3)\n",
    "cv2.line(d1, p1, p2, (255, 255, 255), 10)\n",
    "cv2.line(d1, p2, p3, (255, 255, 255), 10)\n",
    "cv2.line(d1, p1, p3, (255, 255, 255), 10)\n",
    "cv2.imshow(\"Dog\",d1)\n",
    "cv2.waitKey()\n",
    "cv2.destroyAllWindows()"
   ]
  },
  {
   "cell_type": "code",
   "execution_count": 89,
   "metadata": {},
   "outputs": [],
   "source": [
    "#Creating a custom image of similar dog with small changes.\n",
    "d2=np.zeros((500,700,3),np.uint8)\n",
    "cv2.rectangle(d2,(180,250) , (400,350) , [255,255,255] ,-5) #body\n",
    "cv2.rectangle(d2,(180,350) , (190,420) , [255,255,255] ,-5) #backleg\n",
    "cv2.rectangle(d2,(400,350) , (390,420) , [255,255,255] ,-5) #frontleg\n",
    "cv2.rectangle(d2,(180,250) , (150,253) , [255,255,255] ,-5)  #tail\n",
    "cv2.rectangle(d2,(150,253) , (155,291) , [255,255,255] ,-5) #tailip\n",
    "cv2.rectangle(d2,(150,291) , (116,287) , [255,255,255] ,-5)\n",
    "cv2.rectangle(d2,(370,270) , (470,200) , [255,255,255] ,-5)\n",
    "cv2.rectangle(d2,(470,270) , (495,235) , [255,255,255] ,-1)\n",
    "p1 = (385, 200)\n",
    "p2 = (415, 200)\n",
    "p3 = (415, 154)\n",
    "p4 = (180, 420)\n",
    "p5 = (205, 420)\n",
    "p6 = (180, 407)\n",
    "p7 = (390, 420)\n",
    "p8 = (410, 420)\n",
    "p9 = (390, 405)\n",
    "cv2.line(d2, p7, p8, (255, 255, 255), 3)\n",
    "cv2.line(d2, p8, p9, (255, 255, 255), 3)\n",
    "cv2.line(d2, p9, p7, (255, 255, 255), 3)\n",
    "cv2.line(d2, p4, p5, (255, 255, 255), 3)\n",
    "cv2.line(d2, p5, p6, (255, 255, 255), 3)\n",
    "cv2.line(d2, p6, p4, (255, 255, 255), 3)\n",
    "cv2.line(d2, p1, p2, (255, 255, 255), 10)\n",
    "cv2.line(d2, p2, p3, (255, 255, 255), 10)\n",
    "d2=cv2.line(d2, p1, p3, (255, 255, 255), 10)\n",
    "cv2.imshow(\"Dog\",d2)\n",
    "cv2.waitKey()\n",
    "cv2.destroyAllWindows()"
   ]
  },
  {
   "cell_type": "code",
   "execution_count": 90,
   "metadata": {},
   "outputs": [],
   "source": [
    "#Doggu is feeling loved and is shaking his tail.\n",
    "while True:\n",
    "    cv2.imshow('dog',d1)\n",
    "    if cv2.waitKey(200)==13:\n",
    "        break\n",
    "    cv2.imshow('dog',d2)\n",
    "    if cv2.waitKey(200)==13:\n",
    "        break\n",
    "cv2.destroyAllWindows()"
   ]
  },
  {
   "cell_type": "code",
   "execution_count": 91,
   "metadata": {},
   "outputs": [],
   "source": [
    "# Task 3.2\n",
    "# Take 2 images, crop some part of both the images and swap them. "
   ]
  },
  {
   "cell_type": "code",
   "execution_count": 92,
   "metadata": {},
   "outputs": [],
   "source": [
    "#Load and display image_#1\n",
    "\n",
    "image=cv2.imread(\"home_animalshelter_portfolio5-1024x1024-1.jpg\")\n",
    "image=cv2.resize(image, (720, 720))\n",
    "cv2.imshow(\"image\", image) \n",
    "cv2.waitKey()\n",
    "cv2.destroyAllWindows()"
   ]
  },
  {
   "cell_type": "code",
   "execution_count": 93,
   "metadata": {},
   "outputs": [],
   "source": [
    "#crop and display image_#1\n",
    "\n",
    "image = cv2.imread(\"home_animalshelter_portfolio5-1024x1024-1.jpg\")\n",
    "image=cv2.resize(image, (720, 720))\n",
    "crop1=image[115:450 , 120:450 ]\n",
    "cv2.imshow(\"image\", crop1) \n",
    "cv2.waitKey()\n",
    "cv2.destroyAllWindows()"
   ]
  },
  {
   "cell_type": "code",
   "execution_count": 94,
   "metadata": {},
   "outputs": [],
   "source": [
    "#load and display image_#2\n",
    "\n",
    "image_2 = cv2.imread(\"5vwLMH.png\")\n",
    "image_2=cv2.resize(image_2, (720, 720))\n",
    "cv2.imshow(\"image\", image_2) \n",
    "cv2.waitKey()\n",
    "cv2.destroyAllWindows()"
   ]
  },
  {
   "cell_type": "code",
   "execution_count": 95,
   "metadata": {},
   "outputs": [],
   "source": [
    "#crop and display image_#2\n",
    "\n",
    "image_2 = cv2.imread(\"5vwLMH.png\")\n",
    "image_2=cv2.resize(image_2, (550, 550))\n",
    "crop2=image_2[115:450 , 120:450 ]\n",
    "cv2.imshow(\"image\", crop2) \n",
    "cv2.waitKey()\n",
    "cv2.destroyAllWindows()"
   ]
  },
  {
   "cell_type": "code",
   "execution_count": 96,
   "metadata": {},
   "outputs": [],
   "source": [
    "#swap the cropped parts of images\n",
    "\n",
    "crop1=numpy.copy(crop1)\n",
    "crop2=numpy.copy(crop2)\n",
    "image[115:450,120:450]=crop2\n",
    "image_2[115:450 , 120:450 ]=crop1"
   ]
  },
  {
   "cell_type": "code",
   "execution_count": 97,
   "metadata": {},
   "outputs": [],
   "source": [
    "#display image_#1\n",
    "\n",
    "cv2.imshow(\"image\", image) \n",
    "cv2.waitKey()\n",
    "cv2.destroyAllWindows()"
   ]
  },
  {
   "cell_type": "code",
   "execution_count": 98,
   "metadata": {},
   "outputs": [],
   "source": [
    "#display image_#2\n",
    "\n",
    "cv2.imshow(\"image\", image_2) \n",
    "cv2.waitKey()\n",
    "cv2.destroyAllWindows()"
   ]
  },
  {
   "cell_type": "code",
   "execution_count": 99,
   "metadata": {},
   "outputs": [],
   "source": [
    "#task 4.3\n",
    "#Take 2 images and combine it to form a single image. For example, collage ."
   ]
  },
  {
   "cell_type": "code",
   "execution_count": 100,
   "metadata": {},
   "outputs": [],
   "source": [
    "#load and display image_#1.\n",
    "\n",
    "image = cv2.imread(\"home_animalshelter_portfolio5-1024x1024-1.jpg\")\n",
    "image=cv2.resize(image, (720, 720))\n",
    "cv2.imshow(\"image\", image) \n",
    "cv2.waitKey()\n",
    "cv2.destroyAllWindows()"
   ]
  },
  {
   "cell_type": "code",
   "execution_count": 120,
   "metadata": {},
   "outputs": [],
   "source": [
    "#load and display image_#2.\n",
    "\n",
    "image_2 = cv2.imread(\"5vwLMH.png\")\n",
    "image_2= cv2.resize(image_2, (720, 720))\n",
    "cv2.imshow(\"image\", image_2) \n",
    "cv2.waitKey()\n",
    "cv2.destroyAllWindows()"
   ]
  },
  {
   "cell_type": "code",
   "execution_count": 121,
   "metadata": {},
   "outputs": [],
   "source": [
    "#combine both images to form a single image.\n",
    "\n",
    "img = numpy.hstack((image, image_2))\n",
    "ims = cv2.resize(img, (700, 400))  #960\n",
    "cv2.imshow(\"image\", ims)     \n",
    "cv2.waitKey()\n",
    "cv2.destroyAllWindows()"
   ]
  },
  {
   "cell_type": "code",
   "execution_count": 122,
   "metadata": {},
   "outputs": [],
   "source": [
    "#made an image collage of all the dogs.\n",
    "\n",
    "doggu = cv2.resize(d1, (700, 400))\n",
    "img2=numpy.vstack((ims,doggu))\n",
    "cv2.imshow(\"image\", img2)     \n",
    "cv2.waitKey()\n",
    "cv2.destroyAllWindows()"
   ]
  },
  {
   "cell_type": "code",
   "execution_count": null,
   "metadata": {},
   "outputs": [],
   "source": []
  }
 ],
 "metadata": {
  "kernelspec": {
   "display_name": "Python 3",
   "language": "python",
   "name": "python3"
  },
  "language_info": {
   "codemirror_mode": {
    "name": "ipython",
    "version": 3
   },
   "file_extension": ".py",
   "mimetype": "text/x-python",
   "name": "python",
   "nbconvert_exporter": "python",
   "pygments_lexer": "ipython3",
   "version": "3.8.3"
  }
 },
 "nbformat": 4,
 "nbformat_minor": 4
}
